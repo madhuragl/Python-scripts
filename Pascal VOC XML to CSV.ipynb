{
  "nbformat": 4,
  "nbformat_minor": 0,
  "metadata": {
    "colab": {
      "provenance": []
    },
    "kernelspec": {
      "name": "python3",
      "display_name": "Python 3"
    },
    "language_info": {
      "name": "python"
    }
  },
  "cells": [
    {
      "cell_type": "code",
      "execution_count": null,
      "metadata": {
        "id": "UgHqJcqP15D0"
      },
      "outputs": [],
      "source": [
        "def xml_to_csv(path):\n",
        "\n",
        "  import xml.etree.ElementTree as ET\n",
        "  import csv\n",
        "\n",
        "  # parse the XML file\n",
        "  tree = ET.parse(path)\n",
        "  root = tree.getroot()\n",
        "\n",
        "  # create a CSV file and write the header\n",
        "  with open('annotations.csv', 'w', newline='') as csvfile:\n",
        "      writer = csv.writer(csvfile)\n",
        "      writer.writerow(['filename', 'width', 'height', 'class', 'xmin', 'ymin', 'xmax', 'ymax'])\n",
        "\n",
        "  # iterate through the objects in the XML file\n",
        "      for obj in root.iter('object'):\n",
        "          filename = root.find('filename').text\n",
        "          class_name = obj.find('name').text\n",
        "          width = int(root.find('size').find('width').text)\n",
        "          height = int(root.find('size').find('height').text)\n",
        "          bndbox = obj.find('bndbox')\n",
        "          xmin = bndbox.find('xmin').text\n",
        "          ymin = bndbox.find('ymin').text\n",
        "          xmax = bndbox.find('xmax').text\n",
        "          ymax = bndbox.find('ymax').text\n",
        "\n",
        "  # write the information to the CSV file\n",
        "          writer.writerow([filename, width, height, class_name, xmin, ymin, xmax, ymax])\n",
        "  files.download(\"annotations.csv\")"
      ]
    },
    {
      "cell_type": "code",
      "source": [
        "path = \"/content/Zybo.xml\"\n",
        "xml_to_csv(path)"
      ],
      "metadata": {
        "id": "hvr4ct5K2c5O"
      },
      "execution_count": null,
      "outputs": []
    }
  ]
}